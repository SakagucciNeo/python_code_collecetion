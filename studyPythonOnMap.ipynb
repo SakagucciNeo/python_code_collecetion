{
 "cells": [
  {
   "cell_type": "code",
   "execution_count": 3,
   "id": "c3e94649",
   "metadata": {},
   "outputs": [
    {
     "name": "stderr",
     "output_type": "stream",
     "text": [
      "100%|████████████████████████████████████████████████████████████████████████████████████| 1/1 [00:11<00:00, 11.50s/it]"
     ]
    },
    {
     "name": "stdout",
     "output_type": "stream",
     "text": [
      "35.621981\n",
      "139.630827\n"
     ]
    },
    {
     "name": "stderr",
     "output_type": "stream",
     "text": [
      "\n"
     ]
    }
   ],
   "source": [
    "import requests\n",
    "from bs4 import BeautifulSoup\n",
    "import time\n",
    "from tqdm import tqdm\n",
    "import pandas as pd\n",
    "\n",
    "\n",
    "def get_lat_lon_from_address(address_l):\n",
    "    \"\"\"\n",
    "    address_lにlistの形で住所を入れてあげると、latlonsという入れ子上のリストで緯度経度のリストを返す関数。\n",
    "    >>>>get_lat_lon_from_address(['東京都文京区本郷7-3-1','東京都文京区湯島３丁目３０−１'])\n",
    "    [['35.712056', '139.762775'], ['35.707771', '139.768205']]\n",
    "    \"\"\"\n",
    "    url = 'http://www.geocoding.jp/api/'\n",
    "    latlons = []\n",
    "    for address in tqdm(address_l):\n",
    "        payload = {\"v\": 1.1, 'q': address}\n",
    "        r = requests.get(url, params=payload)\n",
    "        ret = BeautifulSoup(r.content, 'lxml')\n",
    "        if ret.find('error'):\n",
    "            raise ValueError(f\"Invalid address submitted. {address}\")\n",
    "        else:\n",
    "            lat = ret.find('lat').string\n",
    "            lon = ret.find('lng').string\n",
    "            latlons.append([lat, lon])\n",
    "            time.sleep(10)\n",
    "    return latlons\n",
    "\n",
    "# print(address)\n",
    "lotlons = get_lat_lon_from_address(['東京都世田谷区玉川台2-1-16'])\n",
    "# print(lotlons)\n",
    "print(lotlons[0][0])\n",
    "print(lotlons[0][1])"
   ]
  },
  {
   "cell_type": "code",
   "execution_count": null,
   "id": "d3c841fd",
   "metadata": {},
   "outputs": [],
   "source": []
  }
 ],
 "metadata": {
  "kernelspec": {
   "display_name": "Python 3",
   "language": "python",
   "name": "python3"
  },
  "language_info": {
   "codemirror_mode": {
    "name": "ipython",
    "version": 3
   },
   "file_extension": ".py",
   "mimetype": "text/x-python",
   "name": "python",
   "nbconvert_exporter": "python",
   "pygments_lexer": "ipython3",
   "version": "3.8.8"
  }
 },
 "nbformat": 4,
 "nbformat_minor": 5
}
